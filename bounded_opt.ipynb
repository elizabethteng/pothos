{
 "cells": [
  {
   "cell_type": "code",
   "execution_count": 1,
   "metadata": {},
   "outputs": [],
   "source": [
    "import numpy as np\n",
    "import george\n",
    "from george import kernels\n",
    "from scipy.optimize import minimize\n",
    "from time import time\n",
    "import argparse"
   ]
  },
  {
   "cell_type": "code",
   "execution_count": 3,
   "metadata": {},
   "outputs": [],
   "source": [
    "rname=\"3917\"\n",
    "wname=\"3917_cobylaconst\"\n",
    "verbose=True\n",
    "solver=\"COBYLA\"\n",
    "error=1"
   ]
  },
  {
   "cell_type": "code",
   "execution_count": 5,
   "metadata": {},
   "outputs": [],
   "source": [
    "coords=np.load(\"./etgrid/\"+rname+\"_coords.npy\")\n",
    "eigenseds=np.load(\"./etgrid/\"+rname+\"_eigenseds.npy\")\n",
    "weights=np.load(\"./etgrid/\"+rname+\"_weights.npy\")\n",
    "pcamean=np.load(\"./etgrid/\"+rname+\"_mean.npy\")\n",
    "sedsflat=np.load(\"./etgrid/sedsflat.npy\")"
   ]
  },
  {
   "cell_type": "code",
   "execution_count": 7,
   "metadata": {},
   "outputs": [],
   "source": [
    "initvecs=[]\n",
    "for i in range(16):\n",
    "    initvecs.append([ 6.33043185, 18.42068074,  0.,  0., -0.4462871 , -5.05145729, -1.38629436, \n",
    "                     -2.4079456086518722, -2.4079456086518722,  -3.2188758248682006, -3.21887582, \n",
    "                     -2.77258872, -2.77258872,  1.38629436,  2.19722458, 0.8109302162163288])\n",
    "\n",
    "kernel = 16*kernels.ExpSquaredKernel(15**2,ndim=15,axes=0)*\\\n",
    "        kernels.ExpSquaredKernel(1**2,ndim=15,axes=1)*\\\n",
    "        kernels.ExpSquaredKernel(1**2,ndim=15,axes=2)*\\\n",
    "        kernels.ExpSquaredKernel(1**2,ndim=15,axes=3)*\\\n",
    "        kernels.ExpSquaredKernel(1**2,ndim=15,axes=4)*\\\n",
    "        kernels.ExpSquaredKernel(1**2,ndim=15,axes=5)*\\\n",
    "        kernels.ExpSquaredKernel(1**2,ndim=15,axes=6)*\\\n",
    "        kernels.ExpSquaredKernel(1**2,ndim=15,axes=7)*\\\n",
    "        kernels.ExpSquaredKernel(1**2,ndim=15,axes=8)*\\\n",
    "        kernels.ExpSquaredKernel(1**2,ndim=15,axes=9)*\\\n",
    "        kernels.ExpSquaredKernel(1**2,ndim=15,axes=10)*\\\n",
    "        kernels.ExpSquaredKernel(1**2,ndim=15,axes=11)*\\\n",
    "        kernels.ExpSquaredKernel(1**2,ndim=15,axes=12)*\\\n",
    "        kernels.ExpSquaredKernel(1**2,ndim=15,axes=13)*\\\n",
    "        kernels.ExpSquaredKernel(1**2,ndim=15,axes=14) \n",
    "blankhodlr=george.GP(kernel,solver=george.HODLRSolver)"
   ]
  },
  {
   "cell_type": "code",
   "execution_count": 8,
   "metadata": {},
   "outputs": [
    {
     "data": {
      "text/plain": [
       "array([[ 4.87336449e+03,  1.57368371e+00, -3.79425368e+00, ...,\n",
       "         1.50348648e+00,  3.15890343e+00,  1.82165995e-01],\n",
       "       [ 4.40298028e+03,  1.42607026e+00, -5.49257632e+00, ...,\n",
       "         9.60558225e-01,  4.40686219e+00, -5.91335675e-01],\n",
       "       [ 3.32570623e+03, -7.74736436e-01, -5.77402065e+00, ...,\n",
       "         3.46638963e-01,  4.28916571e+00, -7.64811589e-01],\n",
       "       ...,\n",
       "       [ 4.11563005e+03,  9.40751915e-02, -2.65843362e+00, ...,\n",
       "         3.41387035e+00,  3.08420641e+00,  5.45055996e-01],\n",
       "       [ 3.21500452e+03,  8.70107452e-01, -5.62449114e+00, ...,\n",
       "         3.51940271e+00,  2.88397419e+00, -9.17416800e-01],\n",
       "       [ 4.59379315e+03, -8.35484096e-01, -6.57757117e+00, ...,\n",
       "         1.62010960e+00,  3.98623411e+00,  7.72133561e-02]])"
      ]
     },
     "execution_count": 8,
     "metadata": {},
     "output_type": "execute_result"
    }
   ],
   "source": [
    "coords"
   ]
  },
  {
   "cell_type": "code",
   "execution_count": null,
   "metadata": {},
   "outputs": [],
   "source": []
  }
 ],
 "metadata": {
  "kernelspec": {
   "display_name": "Python 3",
   "language": "python",
   "name": "python3"
  },
  "language_info": {
   "codemirror_mode": {
    "name": "ipython",
    "version": 3
   },
   "file_extension": ".py",
   "mimetype": "text/x-python",
   "name": "python",
   "nbconvert_exporter": "python",
   "pygments_lexer": "ipython3",
   "version": "3.6.10"
  }
 },
 "nbformat": 4,
 "nbformat_minor": 4
}

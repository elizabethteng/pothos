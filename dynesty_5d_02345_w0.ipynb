{
 "cells": [
  {
   "cell_type": "code",
   "execution_count": 1,
   "metadata": {},
   "outputs": [],
   "source": [
    "import numpy as np\n",
    "import george\n",
    "from george import kernels\n",
    "import schwimmbad\n",
    "from dynesty import plotting as dyplot\n",
    "import dynesty\n",
    "import time\n",
    "import matplotlib.pyplot as plt"
   ]
  },
  {
   "cell_type": "code",
   "execution_count": 2,
   "metadata": {},
   "outputs": [],
   "source": [
    "weights=np.load(\"./etgrid/3962_weights.npy\")\n",
    "coords=np.load(\"./etgrid/3962_coords.npy\")\n",
    "Tstar=coords[:,0]\n",
    "logL_star=coords[:,1]\n",
    "logM_disk=coords[:,2]\n",
    "logR_disk=coords[:,3]\n",
    "h_0=coords[:,4]\n",
    "logR_in=coords[:,5]\n",
    "gamma_t=coords[:,6]\n",
    "bix=coords[:,7]\n",
    "logM_env_t = coords[:,8]\n",
    "logR_env = coords[:,9]\n",
    "f_cav=coords[:,10]\n",
    "ksi = coords[:,11]\n",
    "loga_max=coords[:,12]\n",
    "p=coords[:,13]\n",
    "incl=coords[:,14]\n",
    "\n",
    "w2=weights[0]\n",
    "yerr=np.array([j*0.01 for j in w2])"
   ]
  },
  {
   "cell_type": "code",
   "execution_count": 3,
   "metadata": {},
   "outputs": [
    {
     "name": "stdout",
     "output_type": "stream",
     "text": [
      "Initial ln-likelihood: -5138449.85\n",
      "[ 8.52346507 17.03438638  2.19722458  0.         -4.60517019 -1.38629436]\n",
      "[  70.93277068 5000.            3.            1.            0.1\n",
      "    0.5       ]\n"
     ]
    }
   ],
   "source": [
    "x=np.transpose([Tstar,logM_disk,logR_disk,h_0,logR_in])\n",
    "kernel = np.var(w2) \\\n",
    "    * kernels.ExpSquaredKernel(5000**2,ndim=5,axes=0) \\\n",
    "    * kernels.ExpSquaredKernel(3**2,ndim=5,axes=1) \\\n",
    "    * kernels.ExpSquaredKernel(1**2,ndim=5,axes=2) \\\n",
    "    * kernels.ExpSquaredKernel(0.1**2,ndim=5,axes=3) \\\n",
    "    * kernels.ExpSquaredKernel(0.5**2,ndim=5,axes=4) \n",
    "\n",
    "\n",
    "gp = george.GP(kernel)\n",
    "gp.compute(x,yerr)\n",
    "\n",
    "np.set_printoptions(suppress=True)\n",
    "print(\"Initial ln-likelihood: {0:.2f}\".format(gp.log_likelihood(w2)))\n",
    "print(gp.get_parameter_vector())\n",
    "print(np.sqrt(np.exp(gp.get_parameter_vector())))"
   ]
  },
  {
   "cell_type": "code",
   "execution_count": 4,
   "metadata": {},
   "outputs": [],
   "source": [
    "ndim = 6\n",
    "\n",
    "def loglike (p):\n",
    "    try:        \n",
    "        gp.set_parameter_vector(p)\n",
    "        return gp.log_likelihood(w2)\n",
    "    except:\n",
    "        return - 1e10\n",
    "        \n",
    "\n",
    "def ptform(u):\n",
    "    #  [-50,50] [11,30] [-1.3,3.6] [-4.6,2.2] [-9.2,-1.4] [-4.6,2.5]\n",
    "    return [u[0]*100 -50, u[1]*19+11 , u[2]*4.9-1.3 , \\\n",
    "            u[3]*6.8-4.6 , u[4]*7.8-9.2 , u[5]*7.1-4.6 ]\n"
   ]
  },
  {
   "cell_type": "code",
   "execution_count": 5,
   "metadata": {
    "scrolled": false
   },
   "outputs": [],
   "source": [
    "sampler = dynesty.NestedSampler(loglike, ptform, ndim,nlive=1000, pool=schwimmbad.MultiPool())\n"
   ]
  },
  {
   "cell_type": "code",
   "execution_count": null,
   "metadata": {},
   "outputs": [
    {
     "name": "stderr",
     "output_type": "stream",
     "text": [
      "iter: 1480 | bound: 0 | nc: 1 | ncall: 4411 | eff(%): 33.552 | loglstar:   -inf < -69140.450 <    inf | logz: -69148.524 +/-  0.126 | dlogz: 42434.613 >  1.009                                       "
     ]
    }
   ],
   "source": [
    "t0=time.time()\n",
    "sampler.run_nested()\n",
    "print(time.time()-t0)\n",
    "results = sampler.results\n"
   ]
  },
  {
   "cell_type": "code",
   "execution_count": null,
   "metadata": {
    "scrolled": false
   },
   "outputs": [],
   "source": [
    "# Plot a summary of the run.\n",
    "rfig, raxes = dyplot.runplot(results)\n",
    "\n",
    "# Plot traces and 1-D marginalized posteriors.\n",
    "tfig, taxes = dyplot.traceplot(results)\n",
    "\n",
    "# Plot the 2-D marginalized posteriors.\n",
    "cfig, caxes = dyplot.cornerplot(results)"
   ]
  },
  {
   "cell_type": "code",
   "execution_count": null,
   "metadata": {},
   "outputs": [],
   "source": [
    "ndim = 6\n",
    "\n",
    "def loglike (p):\n",
    "    try:        \n",
    "        gp.set_parameter_vector(p)\n",
    "        return gp.log_likelihood(w2)\n",
    "    except:\n",
    "        return - 1e14\n",
    "\n",
    "def ptform(u):\n",
    "    #  [-50,50] [0,30] [-3,3.6] [-8,2.2] [-16,-1.4] [-10,2.5]\n",
    "    return [u[0]*100 -50, u[1]*30 , u[2]*6.6-3 , \\\n",
    "            u[3]*10.2-8 , u[4]*14.6-16 , u[5]*12.5-10 ]"
   ]
  },
  {
   "cell_type": "code",
   "execution_count": null,
   "metadata": {},
   "outputs": [],
   "source": [
    "sampler = dynesty.NestedSampler(loglike, ptform, ndim,nlive=1000, pool=schwimmbad.MultiPool())"
   ]
  },
  {
   "cell_type": "code",
   "execution_count": null,
   "metadata": {},
   "outputs": [],
   "source": [
    "t0=time.time()\n",
    "sampler.run_nested()\n",
    "print(time.time()-t0)\n",
    "results = sampler.results\n",
    "\n"
   ]
  },
  {
   "cell_type": "code",
   "execution_count": null,
   "metadata": {
    "scrolled": false
   },
   "outputs": [],
   "source": [
    "# Plot a summary of the run.\n",
    "rfig, raxes = dyplot.runplot(results)\n",
    "\n",
    "# Plot traces and 1-D marginalized posteriors.\n",
    "tfig, taxes = dyplot.traceplot(results)\n",
    "\n",
    "# Plot the 2-D marginalized posteri ors.\n",
    "cfig, caxes = dyplot.cornerplot(results)"
   ]
  }
 ],
 "metadata": {
  "kernelspec": {
   "display_name": "Python 3",
   "language": "python",
   "name": "python3"
  },
  "language_info": {
   "codemirror_mode": {
    "name": "ipython",
    "version": 3
   },
   "file_extension": ".py",
   "mimetype": "text/x-python",
   "name": "python",
   "nbconvert_exporter": "python",
   "pygments_lexer": "ipython3",
   "version": "3.6.7"
  }
 },
 "nbformat": 4,
 "nbformat_minor": 4
}

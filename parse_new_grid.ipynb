{
 "cells": [
  {
   "cell_type": "code",
   "execution_count": 5,
   "metadata": {},
   "outputs": [],
   "source": [
    "import numpy as np\n",
    "import os\n",
    "import pickle\n",
    "from time import time\n",
    "import lhsmdu\n",
    "import pdspy.modeling as modeling"
   ]
  },
  {
   "cell_type": "code",
   "execution_count": null,
   "metadata": {},
   "outputs": [],
   "source": [
    "with open ('./etgrid/etgrid_coords_byaxis_trans.txt', 'rb') as fp:\n",
    "    coords_byaxis = pickle.load(fp)\n",
    "with open ('./etgrid/etgrid_coords_bypoint_trans.txt', 'rb') as fp:\n",
    "    coords_bypoint = pickle.load(fp)"
   ]
  },
  {
   "cell_type": "code",
   "execution_count": null,
   "metadata": {},
   "outputs": [],
   "source": []
  },
  {
   "cell_type": "code",
   "execution_count": null,
   "metadata": {},
   "outputs": [],
   "source": []
  },
  {
   "cell_type": "code",
   "execution_count": null,
   "metadata": {},
   "outputs": [],
   "source": [
    "directory=\"./etgrid/models/\"\n",
    "coords=[[],[]]\n",
    "seds=[]\n",
    "for i in range(len(os.listdir(directory))):\n",
    "    coords[0].append(float(os.listdir(directory)[i].split(\"_\")[(2*2)+1]))\n",
    "    coords[1].append(float(os.listdir(directory)[i].split(\"_\")[(2*3)+1]))\n",
    "    filename=os.listdir(directory)[i]\n",
    "    model=modeling.YSOModel()\n",
    "    model.read_yso(directory+filename)\n",
    "    seds.append(np.log10(model.spectra[\"SED\"].flux))"
   ]
  },
  {
   "cell_type": "code",
   "execution_count": null,
   "metadata": {},
   "outputs": [],
   "source": []
  },
  {
   "cell_type": "code",
   "execution_count": null,
   "metadata": {},
   "outputs": [],
   "source": []
  }
 ],
 "metadata": {
  "kernelspec": {
   "display_name": "Python 3",
   "language": "python",
   "name": "python3"
  },
  "language_info": {
   "codemirror_mode": {
    "name": "ipython",
    "version": 3
   },
   "file_extension": ".py",
   "mimetype": "text/x-python",
   "name": "python",
   "nbconvert_exporter": "python",
   "pygments_lexer": "ipython3",
   "version": "3.7.3"
  }
 },
 "nbformat": 4,
 "nbformat_minor": 2
}

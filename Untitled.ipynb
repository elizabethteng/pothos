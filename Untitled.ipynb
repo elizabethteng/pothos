{
 "cells": [
  {
   "cell_type": "code",
   "execution_count": 10,
   "metadata": {},
   "outputs": [],
   "source": [
    "import numpy as np\n",
    "import george\n",
    "from george import kernels\n",
    "from scipy.optimize import minimize\n",
    "from time import time\n",
    "import argparse\n",
    "\n"
   ]
  },
  {
   "cell_type": "code",
   "execution_count": 2,
   "metadata": {},
   "outputs": [],
   "source": [
    "coords=np.load(\"./etgrid/3962_coords.npy\")\n",
    "eigenseds=np.load(\"./etgrid/3962_eigenseds.npy\")\n",
    "weights=np.load(\"./etgrid/3962_weights.npy\")\n",
    "pcamean=np.load(\"./etgrid/3962_mean.npy\")\n",
    "sedsflat=np.load(\"./etgrid/sedsflat.npy\")\n",
    "\n",
    "yerrs=[]\n",
    "for i in range(16):\n",
    "    yerrs.append([x*0.01 for x in weights[i]])\n",
    "    \n",
    "initvecs=[]\n",
    "for i in range(16):\n",
    "    initvecs.append([ 6.33043185, 18.42068074,  0.,  0., -0.4462871 , -5.05145729, -1.38629436, \n",
    "                     -2.4079456086518722, -2.4079456086518722,  -3.2188758248682006, -3.21887582, \n",
    "                     -2.77258872, -2.77258872,  1.38629436,  2.19722458, 0.8109302162163288])\n",
    "\n",
    "kernel = 16*kernels.ExpSquaredKernel(15**2,ndim=15,axes=0)*\\\n",
    "        kernels.ExpSquaredKernel(1**2,ndim=15,axes=1)*\\\n",
    "        kernels.ExpSquaredKernel(1**2,ndim=15,axes=2)*\\\n",
    "        kernels.ExpSquaredKernel(1**2,ndim=15,axes=3)*\\\n",
    "        kernels.ExpSquaredKernel(1**2,ndim=15,axes=4)*\\\n",
    "        kernels.ExpSquaredKernel(1**2,ndim=15,axes=5)*\\\n",
    "        kernels.ExpSquaredKernel(1**2,ndim=15,axes=6)*\\\n",
    "        kernels.ExpSquaredKernel(1**2,ndim=15,axes=7)*\\\n",
    "        kernels.ExpSquaredKernel(1**2,ndim=15,axes=8)*\\\n",
    "        kernels.ExpSquaredKernel(1**2,ndim=15,axes=9)*\\\n",
    "        kernels.ExpSquaredKernel(1**2,ndim=15,axes=10)*\\\n",
    "        kernels.ExpSquaredKernel(1**2,ndim=15,axes=11)*\\\n",
    "        kernels.ExpSquaredKernel(1**2,ndim=15,axes=12)*\\\n",
    "        kernels.ExpSquaredKernel(1**2,ndim=15,axes=13)*\\\n",
    "        kernels.ExpSquaredKernel(1**2,ndim=15,axes=14) \n",
    "blankhodlr=george.GP(kernel,solver=george.HODLRSolver)\n",
    "\n"
   ]
  },
  {
   "cell_type": "code",
   "execution_count": 12,
   "metadata": {},
   "outputs": [
    {
     "data": {
      "text/plain": [
       "array([ 6.33043185, 18.42068074,  0.        ,  0.        , -0.4462871 ,\n",
       "       -5.05145729, -1.38629436, -2.40794561, -2.40794561, -3.21887582,\n",
       "       -3.21887582, -2.77258872, -2.77258872,  1.38629436,  2.19722458,\n",
       "        0.81093022,  6.33043185, 18.42068074,  0.        ,  0.        ,\n",
       "       -0.4462871 , -5.05145729, -1.38629436, -2.40794561, -2.40794561,\n",
       "       -3.21887582, -3.21887582, -2.77258872, -2.77258872,  1.38629436,\n",
       "        2.19722458,  0.81093022,  6.33043185, 18.42068074,  0.        ,\n",
       "        0.        , -0.4462871 , -5.05145729, -1.38629436, -2.40794561,\n",
       "       -2.40794561, -3.21887582, -3.21887582, -2.77258872, -2.77258872,\n",
       "        1.38629436,  2.19722458,  0.81093022,  6.33043185, 18.42068074,\n",
       "        0.        ,  0.        , -0.4462871 , -5.05145729, -1.38629436,\n",
       "       -2.40794561, -2.40794561, -3.21887582, -3.21887582, -2.77258872,\n",
       "       -2.77258872,  1.38629436,  2.19722458,  0.81093022,  6.33043185,\n",
       "       18.42068074,  0.        ,  0.        , -0.4462871 , -5.05145729,\n",
       "       -1.38629436, -2.40794561, -2.40794561, -3.21887582, -3.21887582,\n",
       "       -2.77258872, -2.77258872,  1.38629436,  2.19722458,  0.81093022,\n",
       "        6.33043185, 18.42068074,  0.        ,  0.        , -0.4462871 ,\n",
       "       -5.05145729, -1.38629436, -2.40794561, -2.40794561, -3.21887582,\n",
       "       -3.21887582, -2.77258872, -2.77258872,  1.38629436,  2.19722458,\n",
       "        0.81093022,  6.33043185, 18.42068074,  0.        ,  0.        ,\n",
       "       -0.4462871 , -5.05145729, -1.38629436, -2.40794561, -2.40794561,\n",
       "       -3.21887582, -3.21887582, -2.77258872, -2.77258872,  1.38629436,\n",
       "        2.19722458,  0.81093022,  6.33043185, 18.42068074,  0.        ,\n",
       "        0.        , -0.4462871 , -5.05145729, -1.38629436, -2.40794561,\n",
       "       -2.40794561, -3.21887582, -3.21887582, -2.77258872, -2.77258872,\n",
       "        1.38629436,  2.19722458,  0.81093022,  6.33043185, 18.42068074,\n",
       "        0.        ,  0.        , -0.4462871 , -5.05145729, -1.38629436,\n",
       "       -2.40794561, -2.40794561, -3.21887582, -3.21887582, -2.77258872,\n",
       "       -2.77258872,  1.38629436,  2.19722458,  0.81093022,  6.33043185,\n",
       "       18.42068074,  0.        ,  0.        , -0.4462871 , -5.05145729,\n",
       "       -1.38629436, -2.40794561, -2.40794561, -3.21887582, -3.21887582,\n",
       "       -2.77258872, -2.77258872,  1.38629436,  2.19722458,  0.81093022,\n",
       "        6.33043185, 18.42068074,  0.        ,  0.        , -0.4462871 ,\n",
       "       -5.05145729, -1.38629436, -2.40794561, -2.40794561, -3.21887582,\n",
       "       -3.21887582, -2.77258872, -2.77258872,  1.38629436,  2.19722458,\n",
       "        0.81093022,  6.33043185, 18.42068074,  0.        ,  0.        ,\n",
       "       -0.4462871 , -5.05145729, -1.38629436, -2.40794561, -2.40794561,\n",
       "       -3.21887582, -3.21887582, -2.77258872, -2.77258872,  1.38629436,\n",
       "        2.19722458,  0.81093022,  6.33043185, 18.42068074,  0.        ,\n",
       "        0.        , -0.4462871 , -5.05145729, -1.38629436, -2.40794561,\n",
       "       -2.40794561, -3.21887582, -3.21887582, -2.77258872, -2.77258872,\n",
       "        1.38629436,  2.19722458,  0.81093022,  6.33043185, 18.42068074,\n",
       "        0.        ,  0.        , -0.4462871 , -5.05145729, -1.38629436,\n",
       "       -2.40794561, -2.40794561, -3.21887582, -3.21887582, -2.77258872,\n",
       "       -2.77258872,  1.38629436,  2.19722458,  0.81093022,  6.33043185,\n",
       "       18.42068074,  0.        ,  0.        , -0.4462871 , -5.05145729,\n",
       "       -1.38629436, -2.40794561, -2.40794561, -3.21887582, -3.21887582,\n",
       "       -2.77258872, -2.77258872,  1.38629436,  2.19722458,  0.81093022,\n",
       "        6.33043185, 18.42068074,  0.        ,  0.        , -0.4462871 ,\n",
       "       -5.05145729, -1.38629436, -2.40794561, -2.40794561, -3.21887582,\n",
       "       -3.21887582, -2.77258872, -2.77258872,  1.38629436,  2.19722458,\n",
       "        0.81093022])"
      ]
     },
     "execution_count": 12,
     "metadata": {},
     "output_type": "execute_result"
    }
   ],
   "source": [
    "np.array(initvecs).reshape(256)"
   ]
  },
  {
   "cell_type": "code",
   "execution_count": null,
   "metadata": {},
   "outputs": [],
   "source": []
  },
  {
   "cell_type": "code",
   "execution_count": null,
   "metadata": {},
   "outputs": [],
   "source": []
  },
  {
   "cell_type": "code",
   "execution_count": 7,
   "metadata": {},
   "outputs": [],
   "source": [
    "def F_chisq_quiet(hp,gp):\n",
    "    print(\"HP:\")\n",
    "    print(hp)\n",
    "    hyperparams=np.transpose(np.array(hp).reshape(16,16))\n",
    "    print(\"hyperparams:\")\n",
    "    print(hyperparams)\n",
    "    preds=[]\n",
    "    step_conv=[]\n",
    "    for i in range(len(weights)):  # same covfunc for each weight and the sample mean\n",
    "        gp.set_parameter_vector(hyperparams[i])\n",
    "        print(\"weight #\"+str(i))\n",
    "        print(gp.get_parameter_vector())\n",
    "        step_conv.append(gp.get_parameter_vector())\n",
    "        gp.compute(coords,yerrs[i])\n",
    "        pred, pred_var = gp.predict(weights[i], coords, return_var=True)\n",
    "        preds.append(pred)\n",
    "    reconst_SEDs=[]\n",
    "    for i in range(len(coords)):\n",
    "        reconst=np.dot(np.array(preds)[:,i][0:15],eigenseds[0:15]) + pcamean + np.array(preds)[:,i][15]\n",
    "        reconst_SEDs.append(reconst)\n",
    "    allsedsflat=np.ndarray.flatten(np.array(reconst_SEDs))\n",
    "    chisq=np.sum((sedsflat-allsedsflat)**2/0.1)\n",
    "    conv.append(step_conv)\n",
    "    return chisq\n",
    "\n",
    "def chisq(p):\n",
    "    return F_chisq_quiet(p,blankhodlr)"
   ]
  },
  {
   "cell_type": "code",
   "execution_count": null,
   "metadata": {
    "scrolled": false
   },
   "outputs": [],
   "source": [
    "print(\"starting minimize routine\")\n",
    "conv=[]\n",
    "t0=time()\n",
    "result = minimize(chisq,initvecs,method=\"Nelder-Mead\")\n",
    "print(\"minimize routine done in %0.3fs\" % (time() - t0))"
   ]
  },
  {
   "cell_type": "code",
   "execution_count": 17,
   "metadata": {},
   "outputs": [
    {
     "data": {
      "text/plain": [
       "0.6065306597126334"
      ]
     },
     "execution_count": 17,
     "metadata": {},
     "output_type": "execute_result"
    }
   ],
   "source": [
    "np.sqrt(np.exp(-1))"
   ]
  },
  {
   "cell_type": "code",
   "execution_count": null,
   "metadata": {},
   "outputs": [],
   "source": []
  }
 ],
 "metadata": {
  "kernelspec": {
   "display_name": "Python 3",
   "language": "python",
   "name": "python3"
  }
 },
 "nbformat": 4,
 "nbformat_minor": 4
}

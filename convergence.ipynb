{
 "cells": [
  {
   "cell_type": "code",
   "execution_count": 1,
   "metadata": {},
   "outputs": [],
   "source": [
    "import numpy as np\n",
    "import george\n",
    "from george import kernels\n",
    "from scipy.optimize import minimize\n",
    "from time import time\n",
    "import argparse\n",
    "import pickle\n",
    "import matplotlib.pyplot as plt"
   ]
  },
  {
   "cell_type": "code",
   "execution_count": 4,
   "metadata": {},
   "outputs": [],
   "source": [
    "conv=np.load(\"./etgrid/3917_cobylaconv_convergence.npy\")\n",
    "conv=np.reshape(conv,[1000,16,16])"
   ]
  },
  {
   "cell_type": "code",
   "execution_count": 40,
   "metadata": {},
   "outputs": [],
   "source": [
    "param_names = [\"Tstar\",\"logL_star\",\"logM_disk\",\"logR_disk\",\"h_0\",\"logR_in\",\\\n",
    "          \"log gamma\",\"bix\",\"log logM_env\",\"logR_env\",\"f_cav\",\"ksi\",\"loga_max\",\"p\",\"biy\"]"
   ]
  },
  {
   "cell_type": "code",
   "execution_count": 24,
   "metadata": {},
   "outputs": [
    {
     "name": "stdout",
     "output_type": "stream",
     "text": [
      "[ 6.33043185 18.42068074  0.          0.         -0.4462871  -5.05145729\n",
      " -1.38629436 -2.40794561 -2.40794561 -3.21887582 -3.21887582 -2.77258872\n",
      " -2.77258872  1.38629436  2.19722458  0.81093022]\n",
      "[ 5.66088825 19.42197053 -0.17330798 -0.14311232 -0.60810144 -5.26589079\n",
      " -1.60744544 -3.3282232  -3.27084462 -2.84171419 -3.67315459 -3.14019201\n",
      " -3.15567952  1.17473226  2.3055555   0.79603016]\n"
     ]
    }
   ],
   "source": [
    "print(conv[0][0])\n",
    "print(conv[999][0])"
   ]
  },
  {
   "cell_type": "code",
   "execution_count": null,
   "metadata": {},
   "outputs": [],
   "source": [
    "np.sqrt(np.exp(gp.get_parameter_vector()))"
   ]
  },
  {
   "cell_type": "code",
   "execution_count": 30,
   "metadata": {},
   "outputs": [],
   "source": [
    "np.set_printoptions(suppress=True)\n",
    "z=np.sqrt(np.exp(conv[0][0]))\n",
    "n=np.sqrt(np.exp(conv[999][0]))"
   ]
  },
  {
   "cell_type": "code",
   "execution_count": 41,
   "metadata": {},
   "outputs": [
    {
     "name": "stdout",
     "output_type": "stream",
     "text": [
      "Tstar 10000.0 16497.849\n",
      "logL_star 1.0 0.917\n",
      "logM_disk 1.0 0.931\n",
      "logR_disk 0.8 0.738\n",
      "h_0 0.08 0.072\n",
      "logR_in 0.5 0.448\n",
      "log gamma 0.3 0.189\n",
      "bix 0.3 0.195\n",
      "log logM_env 0.2 0.242\n",
      "logR_env 0.2 0.159\n",
      "f_cav 0.25 0.208\n",
      "ksi 0.25 0.206\n",
      "loga_max 2.0 1.799\n",
      "p 3.0 3.167\n",
      "biy 1.5 1.489\n"
     ]
    }
   ],
   "source": [
    "for i in range(len(param_names)):\n",
    "    print(param_names[i], np.round(z[i+1],3), np.round(n[i+1],3))"
   ]
  },
  {
   "cell_type": "code",
   "execution_count": 32,
   "metadata": {},
   "outputs": [
    {
     "data": {
      "text/plain": [
       "15"
      ]
     },
     "execution_count": 32,
     "metadata": {},
     "output_type": "execute_result"
    }
   ],
   "source": [
    "len(param_names)"
   ]
  },
  {
   "cell_type": "code",
   "execution_count": null,
   "metadata": {},
   "outputs": [],
   "source": []
  }
 ],
 "metadata": {
  "kernelspec": {
   "display_name": "Python 3",
   "language": "python",
   "name": "python3"
  },
  "language_info": {
   "codemirror_mode": {
    "name": "ipython",
    "version": 3
   },
   "file_extension": ".py",
   "mimetype": "text/x-python",
   "name": "python",
   "nbconvert_exporter": "python",
   "pygments_lexer": "ipython3",
   "version": "3.6.7"
  }
 },
 "nbformat": 4,
 "nbformat_minor": 4
}

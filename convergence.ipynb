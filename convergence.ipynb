{
 "cells": [
  {
   "cell_type": "code",
   "execution_count": 1,
   "metadata": {},
   "outputs": [],
   "source": [
    "import numpy as np\n",
    "import george\n",
    "from george import kernels\n",
    "from scipy.optimize import minimize\n",
    "from time import time\n",
    "import argparse\n",
    "import pickle\n",
    "import matplotlib.pyplot as plt"
   ]
  },
  {
   "cell_type": "code",
   "execution_count": 2,
   "metadata": {},
   "outputs": [
    {
     "data": {
      "text/plain": [
       "(740, 16, 16)"
      ]
     },
     "execution_count": 2,
     "metadata": {},
     "output_type": "execute_result"
    }
   ],
   "source": [
    "conv=np.load(\"./etgrid/3962_cobyla_convergence.npy\")\n",
    "conv.shape"
   ]
  },
  {
   "cell_type": "code",
   "execution_count": 3,
   "metadata": {},
   "outputs": [
    {
     "name": "stdout",
     "output_type": "stream",
     "text": [
      "Tstar 10000.0 10842.228\n",
      "logL_star 1.0 0.378\n",
      "logM_disk 1.0 0.577\n",
      "logR_disk 0.8 0.441\n",
      "h_0 0.08 0.076\n",
      "logR_in 0.5 0.394\n",
      "log gamma 0.3 0.061\n",
      "bix 0.3 0.154\n",
      "log logM_env 0.2 0.197\n",
      "logR_env 0.2 0.07\n",
      "f_cav 0.25 0.068\n",
      "ksi 0.25 0.08\n",
      "loga_max 2.0 0.693\n",
      "p 3.0 5.53\n",
      "biy 1.5 2.353\n"
     ]
    }
   ],
   "source": [
    "param_names = [\"Tstar\",\"logL_star\",\"logM_disk\",\"logR_disk\",\"h_0\",\"logR_in\",\\\n",
    "          \"log gamma\",\"bix\",\"log logM_env\",\"logR_env\",\"f_cav\",\"ksi\",\"loga_max\",\"p\",\"biy\"]\n",
    "\n",
    "np.set_printoptions(suppress=True)\n",
    "z=np.sqrt(np.exp(conv[0][0]))\n",
    "n=np.sqrt(np.exp(conv[738][0]))\n",
    "\n",
    "for i in range(len(param_names)):\n",
    "    print(param_names[i], np.round(z[i+1],3), np.round(n[i+1],3))"
   ]
  },
  {
   "cell_type": "code",
   "execution_count": 5,
   "metadata": {},
   "outputs": [],
   "source": [
    "coords=np.load(\"./etgrid/3962_coords.npy\")\n",
    "eigenseds=np.load(\"./etgrid/3962_eigenseds.npy\")\n",
    "weights=np.load(\"./etgrid/3962_weights.npy\")\n",
    "pcamean=np.load(\"./etgrid/3962_mean.npy\")\n",
    "sedsflat=np.load(\"./etgrid/sedsflat.npy\")"
   ]
  },
  {
   "cell_type": "code",
   "execution_count": 7,
   "metadata": {},
   "outputs": [],
   "source": [
    "yerrs=[]\n",
    "for i in range(16):\n",
    "    yerrs.append([x*0.01 for x in weights[i]])"
   ]
  },
  {
   "cell_type": "code",
   "execution_count": 8,
   "metadata": {},
   "outputs": [],
   "source": [
    "kernel = 16*kernels.ExpSquaredKernel(15**2,ndim=15,axes=0)*\\\n",
    "        kernels.ExpSquaredKernel(1**2,ndim=15,axes=1)*\\\n",
    "        kernels.ExpSquaredKernel(1**2,ndim=15,axes=2)*\\\n",
    "        kernels.ExpSquaredKernel(1**2,ndim=15,axes=3)*\\\n",
    "        kernels.ExpSquaredKernel(1**2,ndim=15,axes=4)*\\\n",
    "        kernels.ExpSquaredKernel(1**2,ndim=15,axes=5)*\\\n",
    "        kernels.ExpSquaredKernel(1**2,ndim=15,axes=6)*\\\n",
    "        kernels.ExpSquaredKernel(1**2,ndim=15,axes=7)*\\\n",
    "        kernels.ExpSquaredKernel(1**2,ndim=15,axes=8)*\\\n",
    "        kernels.ExpSquaredKernel(1**2,ndim=15,axes=9)*\\\n",
    "        kernels.ExpSquaredKernel(1**2,ndim=15,axes=10)*\\\n",
    "        kernels.ExpSquaredKernel(1**2,ndim=15,axes=11)*\\\n",
    "        kernels.ExpSquaredKernel(1**2,ndim=15,axes=12)*\\\n",
    "        kernels.ExpSquaredKernel(1**2,ndim=15,axes=13)*\\\n",
    "        kernels.ExpSquaredKernel(1**2,ndim=15,axes=14) \n",
    "blankhodlr=george.GP(kernel,solver=george.HODLRSolver)"
   ]
  },
  {
   "cell_type": "code",
   "execution_count": 9,
   "metadata": {},
   "outputs": [],
   "source": [
    "def pred(pred_coords,fit):\n",
    "    gp=blankhodlr\n",
    "    preds=[]\n",
    "    if \"cobyla\" in name:\n",
    "        hyperparams=np.transpose(np.array(fit).reshape(16,16))\n",
    "    else:\n",
    "        hyperparams=np.array(fit).reshape(16,16)\n",
    "\n",
    "    for i in range(len(weights)):  # same covfunc for each weight and the sample mean\n",
    "        gp.set_parameter_vector(hyperparams[i])\n",
    "        gp.compute(coords,yerrs[i])\n",
    "        pred, pred_var = gp.predict(weights[i], pred_coords, return_var=True)\n",
    "        preds.append(pred)\n",
    "    reconst_SEDs=[]\n",
    "    for i in range(len(pred_coords)):\n",
    "        reconst=np.dot(np.array(preds)[:,i][0:15],eigenseds[0:15]) + pcamean + np.array(preds)[:,i][15]\n",
    "        reconst_SEDs.append(reconst)\n",
    "    return reconst_SEDs, preds"
   ]
  },
  {
   "cell_type": "code",
   "execution_count": null,
   "metadata": {},
   "outputs": [],
   "source": []
  }
 ],
 "metadata": {
  "kernelspec": {
   "display_name": "Python 3",
   "language": "python",
   "name": "python3"
  },
  "language_info": {
   "codemirror_mode": {
    "name": "ipython",
    "version": 3
   },
   "file_extension": ".py",
   "mimetype": "text/x-python",
   "name": "python",
   "nbconvert_exporter": "python",
   "pygments_lexer": "ipython3",
   "version": "3.6.7"
  }
 },
 "nbformat": 4,
 "nbformat_minor": 4
}

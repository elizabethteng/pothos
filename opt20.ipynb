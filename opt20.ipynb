{
 "cells": [
  {
   "cell_type": "code",
   "execution_count": 1,
   "metadata": {},
   "outputs": [],
   "source": [
    "import numpy as np\n",
    "import george\n",
    "from george import kernels\n",
    "from scipy.optimize import minimize\n",
    "from time import time\n",
    "import argparse"
   ]
  },
  {
   "cell_type": "code",
   "execution_count": 2,
   "metadata": {},
   "outputs": [],
   "source": [
    "rname=\"first\"\n",
    "wname=\"first\"\n",
    "solver=\"COBYLA\"\n",
    "verbose=True"
   ]
  },
  {
   "cell_type": "code",
   "execution_count": 3,
   "metadata": {},
   "outputs": [],
   "source": [
    "coords=np.load(\"./etgrid/\"+rname+\"_coords.npy\")\n",
    "eigenseds=np.load(\"./etgrid/\"+rname+\"_eigenseds.npy\")\n",
    "weights=np.load(\"./etgrid/\"+rname+\"_weights.npy\")\n",
    "pcamean=np.load(\"./etgrid/\"+rname+\"_mean.npy\")\n",
    "\n",
    "sedsflat=np.ndarray.flatten(np.load('./etgrid/seds.npy')[:,100:500])"
   ]
  },
  {
   "cell_type": "code",
   "execution_count": 4,
   "metadata": {},
   "outputs": [],
   "source": [
    "yerrs=[]\n",
    "for i in range(16):\n",
    "    yerrs.append([x*0.01 for x in weights[i]])\n",
    "    \n",
    "initvecs=[]\n",
    "for i in range(16):\n",
    "    initvecs.append([ 6.33043185, 18.42068074,  0.,  0., -0.4462871 , -5.05145729, -1.38629436, \n",
    "                     -2.4079456086518722, -2.4079456086518722,  -3.2188758248682006, -3.21887582, \n",
    "                     -2.77258872, -2.77258872,  1.38629436,  2.19722458, 0.8109302162163288])\n"
   ]
  },
  {
   "cell_type": "code",
   "execution_count": 5,
   "metadata": {},
   "outputs": [],
   "source": [
    "kernel = 16*kernels.ExpSquaredKernel(15**2,ndim=15,axes=0)*\\\n",
    "        kernels.ExpSquaredKernel(1**2,ndim=15,axes=1)*\\\n",
    "        kernels.ExpSquaredKernel(1**2,ndim=15,axes=2)*\\\n",
    "        kernels.ExpSquaredKernel(1**2,ndim=15,axes=3)*\\\n",
    "        kernels.ExpSquaredKernel(1**2,ndim=15,axes=4)*\\\n",
    "        kernels.ExpSquaredKernel(1**2,ndim=15,axes=5)*\\\n",
    "        kernels.ExpSquaredKernel(1**2,ndim=15,axes=6)*\\\n",
    "        kernels.ExpSquaredKernel(1**2,ndim=15,axes=7)*\\\n",
    "        kernels.ExpSquaredKernel(1**2,ndim=15,axes=8)*\\\n",
    "        kernels.ExpSquaredKernel(1**2,ndim=15,axes=9)*\\\n",
    "        kernels.ExpSquaredKernel(1**2,ndim=15,axes=10)*\\\n",
    "        kernels.ExpSquaredKernel(1**2,ndim=15,axes=11)*\\\n",
    "        kernels.ExpSquaredKernel(1**2,ndim=15,axes=12)*\\\n",
    "        kernels.ExpSquaredKernel(1**2,ndim=15,axes=13)*\\\n",
    "        kernels.ExpSquaredKernel(1**2,ndim=15,axes=14) \n",
    "blankhodlr=george.GP(kernel,solver=george.HODLRSolver)\n"
   ]
  },
  {
   "cell_type": "code",
   "execution_count": 6,
   "metadata": {},
   "outputs": [],
   "source": [
    "def F_chisq_quiet(hp,gp):\n",
    "    hyperparams=np.array(hp).reshape(16,16)\n",
    "    preds=[]\n",
    "    for i in range(len(weights)):  # same covfunc for each weight and the sample mean\n",
    "        gp.set_parameter_vector(hyperparams[i])\n",
    "        if verbose==True:\n",
    "            print(\"weight #\"+str(i))\n",
    "            print(gp.get_parameter_vector())\n",
    "        gp.compute(coords,yerrs[i])\n",
    "        pred, pred_var = gp.predict(weights[i], coords, return_var=True)\n",
    "        preds.append(pred)\n",
    "    reconst_SEDs=[]\n",
    "    for i in range(3825):\n",
    "        reconst=np.dot(np.array(preds)[:,i][0:15],eigenseds[0:15]) + pcamean + np.array(preds)[:,i][15]\n",
    "        reconst_SEDs.append(reconst)\n",
    "    allsedsflat=np.ndarray.flatten(np.array(reconst_SEDs))\n",
    "    chisq=np.sum((sedsflat-allsedsflat)**2/0.1)\n",
    "    if verbose==True:\n",
    "        print(chisq)\n",
    "    return chisq\n",
    "\n",
    "def chisq(p):\n",
    "    return F_chisq_quiet(p,blankhodlr)\n"
   ]
  },
  {
   "cell_type": "code",
   "execution_count": null,
   "metadata": {},
   "outputs": [],
   "source": [
    "minimize(chisq,initvecs,method=solver)"
   ]
  },
  {
   "cell_type": "code",
   "execution_count": 7,
   "metadata": {
    "scrolled": false
   },
   "outputs": [
    {
     "name": "stdout",
     "output_type": "stream",
     "text": [
      "weight #0\n",
      "[ 6.33043185 18.42068074  0.          0.         -0.4462871  -5.05145729\n",
      " -1.38629436 -2.40794561 -2.40794561 -3.21887582 -3.21887582 -2.77258872\n",
      " -2.77258872  1.38629436  2.19722458  0.81093022]\n",
      "weight #1\n",
      "[ 6.33043185 18.42068074  0.          0.         -0.4462871  -5.05145729\n",
      " -1.38629436 -2.40794561 -2.40794561 -3.21887582 -3.21887582 -2.77258872\n",
      " -2.77258872  1.38629436  2.19722458  0.81093022]\n",
      "weight #2\n",
      "[ 6.33043185 18.42068074  0.          0.         -0.4462871  -5.05145729\n",
      " -1.38629436 -2.40794561 -2.40794561 -3.21887582 -3.21887582 -2.77258872\n",
      " -2.77258872  1.38629436  2.19722458  0.81093022]\n",
      "weight #3\n",
      "[ 6.33043185 18.42068074  0.          0.         -0.4462871  -5.05145729\n",
      " -1.38629436 -2.40794561 -2.40794561 -3.21887582 -3.21887582 -2.77258872\n",
      " -2.77258872  1.38629436  2.19722458  0.81093022]\n",
      "weight #4\n",
      "[ 6.33043185 18.42068074  0.          0.         -0.4462871  -5.05145729\n",
      " -1.38629436 -2.40794561 -2.40794561 -3.21887582 -3.21887582 -2.77258872\n",
      " -2.77258872  1.38629436  2.19722458  0.81093022]\n",
      "weight #5\n",
      "[ 6.33043185 18.42068074  0.          0.         -0.4462871  -5.05145729\n",
      " -1.38629436 -2.40794561 -2.40794561 -3.21887582 -3.21887582 -2.77258872\n",
      " -2.77258872  1.38629436  2.19722458  0.81093022]\n",
      "weight #6\n",
      "[ 6.33043185 18.42068074  0.          0.         -0.4462871  -5.05145729\n",
      " -1.38629436 -2.40794561 -2.40794561 -3.21887582 -3.21887582 -2.77258872\n",
      " -2.77258872  1.38629436  2.19722458  0.81093022]\n",
      "weight #7\n",
      "[ 6.33043185 18.42068074  0.          0.         -0.4462871  -5.05145729\n",
      " -1.38629436 -2.40794561 -2.40794561 -3.21887582 -3.21887582 -2.77258872\n",
      " -2.77258872  1.38629436  2.19722458  0.81093022]\n",
      "weight #8\n",
      "[ 6.33043185 18.42068074  0.          0.         -0.4462871  -5.05145729\n",
      " -1.38629436 -2.40794561 -2.40794561 -3.21887582 -3.21887582 -2.77258872\n",
      " -2.77258872  1.38629436  2.19722458  0.81093022]\n",
      "weight #9\n",
      "[ 6.33043185 18.42068074  0.          0.         -0.4462871  -5.05145729\n",
      " -1.38629436 -2.40794561 -2.40794561 -3.21887582 -3.21887582 -2.77258872\n",
      " -2.77258872  1.38629436  2.19722458  0.81093022]\n",
      "weight #10\n",
      "[ 6.33043185 18.42068074  0.          0.         -0.4462871  -5.05145729\n",
      " -1.38629436 -2.40794561 -2.40794561 -3.21887582 -3.21887582 -2.77258872\n",
      " -2.77258872  1.38629436  2.19722458  0.81093022]\n",
      "weight #11\n",
      "[ 6.33043185 18.42068074  0.          0.         -0.4462871  -5.05145729\n",
      " -1.38629436 -2.40794561 -2.40794561 -3.21887582 -3.21887582 -2.77258872\n",
      " -2.77258872  1.38629436  2.19722458  0.81093022]\n",
      "weight #12\n",
      "[ 6.33043185 18.42068074  0.          0.         -0.4462871  -5.05145729\n",
      " -1.38629436 -2.40794561 -2.40794561 -3.21887582 -3.21887582 -2.77258872\n",
      " -2.77258872  1.38629436  2.19722458  0.81093022]\n",
      "weight #13\n",
      "[ 6.33043185 18.42068074  0.          0.         -0.4462871  -5.05145729\n",
      " -1.38629436 -2.40794561 -2.40794561 -3.21887582 -3.21887582 -2.77258872\n",
      " -2.77258872  1.38629436  2.19722458  0.81093022]\n",
      "weight #14\n",
      "[ 6.33043185 18.42068074  0.          0.         -0.4462871  -5.05145729\n",
      " -1.38629436 -2.40794561 -2.40794561 -3.21887582 -3.21887582 -2.77258872\n",
      " -2.77258872  1.38629436  2.19722458  0.81093022]\n",
      "weight #15\n",
      "[ 6.33043185 18.42068074  0.          0.         -0.4462871  -5.05145729\n",
      " -1.38629436 -2.40794561 -2.40794561 -3.21887582 -3.21887582 -2.77258872\n",
      " -2.77258872  1.38629436  2.19722458  0.81093022]\n",
      "inf\n"
     ]
    },
    {
     "data": {
      "text/plain": [
       "inf"
      ]
     },
     "execution_count": 7,
     "metadata": {},
     "output_type": "execute_result"
    }
   ],
   "source": [
    "F_chisq_quiet(initvecs,blankhodlr)"
   ]
  },
  {
   "cell_type": "code",
   "execution_count": null,
   "metadata": {},
   "outputs": [],
   "source": []
  }
 ],
 "metadata": {
  "kernelspec": {
   "display_name": "Python 3",
   "language": "python",
   "name": "python3"
  },
  "language_info": {
   "codemirror_mode": {
    "name": "ipython",
    "version": 3
   },
   "file_extension": ".py",
   "mimetype": "text/x-python",
   "name": "python",
   "nbconvert_exporter": "python",
   "pygments_lexer": "ipython3",
   "version": "3.7.3"
  }
 },
 "nbformat": 4,
 "nbformat_minor": 2
}

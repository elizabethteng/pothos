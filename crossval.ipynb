{
 "cells": [
  {
   "cell_type": "markdown",
   "metadata": {},
   "source": [
    "read in hyperparameter matrix (output from opt.py: \"wname\"\\_optimize_result.npy)\n",
    "\n",
    "start george.GP object with kernels and set parameter vector"
   ]
  },
  {
   "cell_type": "code",
   "execution_count": 1,
   "metadata": {},
   "outputs": [],
   "source": [
    "import numpy as np\n",
    "import george\n",
    "from george import kernels\n",
    "from scipy.optimize import minimize\n",
    "from time import time\n",
    "import argparse"
   ]
  },
  {
   "cell_type": "code",
   "execution_count": null,
   "metadata": {},
   "outputs": [],
   "source": [
    "parser=argparse.ArgumentParser()\n",
    "parser.add_argument(\"--name\", help=\"name of pca instance\",type=str)"
   ]
  },
  {
   "cell_type": "code",
   "execution_count": null,
   "metadata": {},
   "outputs": [],
   "source": [
    "coords=np.load(\"./etgrid/\"+args.rname+\"_coords.npy\")\n",
    "eigenseds=np.load(\"./etgrid/\"+args.rname+\"_eigenseds.npy\")\n",
    "weights=np.load(\"./etgrid/\"+args.rname+\"_weights.npy\")\n",
    "pcamean=np.load(\"./etgrid/\"+args.rname+\"_mean.npy\")\n",
    "sedsflat=np.load(\"./etgrid/sedsflat.npy\")\n",
    "\n",
    "yerrs=[]\n",
    "for i in range(16):\n",
    "    yerrs.append([x*0.01 for x in weights[i]])\n",
    "\n",
    "hyperparams=np.load(parser.parse_args().name+\"_optimize_result.npy\")"
   ]
  },
  {
   "cell_type": "code",
   "execution_count": 2,
   "metadata": {},
   "outputs": [],
   "source": [
    "kernel = 16*kernels.ExpSquaredKernel(15**2,ndim=15,axes=0)*\\\n",
    "        kernels.ExpSquaredKernel(1**2,ndim=15,axes=1)*\\\n",
    "        kernels.ExpSquaredKernel(1**2,ndim=15,axes=2)*\\\n",
    "        kernels.ExpSquaredKernel(1**2,ndim=15,axes=3)*\\\n",
    "        kernels.ExpSquaredKernel(1**2,ndim=15,axes=4)*\\\n",
    "        kernels.ExpSquaredKernel(1**2,ndim=15,axes=5)*\\\n",
    "        kernels.ExpSquaredKernel(1**2,ndim=15,axes=6)*\\\n",
    "        kernels.ExpSquaredKernel(1**2,ndim=15,axes=7)*\\\n",
    "        kernels.ExpSquaredKernel(1**2,ndim=15,axes=8)*\\\n",
    "        kernels.ExpSquaredKernel(1**2,ndim=15,axes=9)*\\\n",
    "        kernels.ExpSquaredKernel(1**2,ndim=15,axes=10)*\\\n",
    "        kernels.ExpSquaredKernel(1**2,ndim=15,axes=11)*\\\n",
    "        kernels.ExpSquaredKernel(1**2,ndim=15,axes=12)*\\\n",
    "        kernels.ExpSquaredKernel(1**2,ndim=15,axes=13)*\\\n",
    "        kernels.ExpSquaredKernel(1**2,ndim=15,axes=14) \n",
    "blankhodlr=george.GP(kernel)"
   ]
  },
  {
   "cell_type": "code",
   "execution_count": null,
   "metadata": {},
   "outputs": [],
   "source": [
    "gp=blankhodlr\n",
    "preds=[]\n",
    "for i in range(len(weights)):  # same covfunc for each weight and the sample mean\n",
    "    gp.set_parameter_vector(hyperparams[i])\n",
    "    if args.verbose==True:\n",
    "        print(\"weight #\"+str(i))\n",
    "        print(gp.get_parameter_vector())\n",
    "    gp.compute(coords,yerrs[i])\n",
    "    pred, pred_var = gp.predict(weights[i], coords, return_var=True)\n",
    "    preds.append(pred)\n",
    "reconst_SEDs=[]\n",
    "for i in range(len(coords)):\n",
    "    reconst=np.dot(np.array(preds)[:,i][0:15],eigenseds[0:15]) + pcamean + np.array(preds)[:,i][15]\n",
    "    reconst_SEDs.append(reconst)\n",
    "allsedsflat=np.ndarray.flatten(np.array(reconst_SEDs))\n",
    "chisq=np.sum((sedsflat-allsedsflat)**2/0.1)\n",
    "if args.verbose==True:\n",
    "    print(chisq)\n",
    "return chisq"
   ]
  },
  {
   "cell_type": "code",
   "execution_count": null,
   "metadata": {},
   "outputs": [],
   "source": []
  }
 ],
 "metadata": {
  "kernelspec": {
   "display_name": "Python 3",
   "language": "python",
   "name": "python3"
  },
  "language_info": {
   "codemirror_mode": {
    "name": "ipython",
    "version": 3
   },
   "file_extension": ".py",
   "mimetype": "text/x-python",
   "name": "python",
   "nbconvert_exporter": "python",
   "pygments_lexer": "ipython3",
   "version": "3.7.3"
  }
 },
 "nbformat": 4,
 "nbformat_minor": 2
}

{
 "cells": [
  {
   "cell_type": "code",
   "execution_count": 26,
   "metadata": {},
   "outputs": [],
   "source": [
    "import numpy as np\n",
    "import george\n",
    "from george import kernels\n",
    "from scipy.optimize import minimize\n",
    "from time import time\n",
    "import argparse\n",
    "import pickle\n",
    "import matplotlib.pyplot as plt"
   ]
  },
  {
   "cell_type": "code",
   "execution_count": 27,
   "metadata": {},
   "outputs": [],
   "source": [
    "with open ('./gmd/trans4_COBYLA_conv_optimize_result.txt', 'rb') as fp:\n",
    "    old_fit = pickle.load(fp)"
   ]
  },
  {
   "cell_type": "code",
   "execution_count": 40,
   "metadata": {},
   "outputs": [
    {
     "data": {
      "text/plain": [
       "array([[ 1.52335991e+01,  1.83017174e+01, -1.91972567e+00,\n",
       "        -1.05250255e+00, -1.36696656e+00, -5.99361333e+00,\n",
       "        -4.74550451e+00, -4.87778574e+00, -4.90301252e+00,\n",
       "        -7.70414170e+00, -6.88356295e+00, -6.92297990e+00,\n",
       "        -7.05922883e+00, -1.33332897e+00,  3.64987381e+00,\n",
       "         5.52099926e-01],\n",
       "       [ 1.23926880e+01,  1.75712662e+01, -1.51125541e+00,\n",
       "        -1.23146414e+00, -2.25220289e+00, -8.54761793e+00,\n",
       "        -3.61115104e+00, -4.29792065e+00, -3.42488200e+00,\n",
       "        -5.02770172e+00, -6.87799575e+00, -6.71526177e+00,\n",
       "        -4.43110741e+00, -1.72750665e+00,  2.10811629e+00,\n",
       "         1.61868798e+00],\n",
       "       [ 9.94643872e+00,  1.70174107e+01, -2.61913103e-01,\n",
       "        -2.24446656e+00, -1.88711542e+00, -7.56490183e+00,\n",
       "        -5.37776841e+00, -3.30656045e+00, -5.82503814e+00,\n",
       "        -4.52142156e+00, -5.56472062e+00, -4.78913103e+00,\n",
       "        -6.00514292e+00, -2.52151430e-01,  8.38374511e-01,\n",
       "         6.63974989e-01],\n",
       "       [ 7.87364250e+00,  1.71863505e+01, -5.62452463e-01,\n",
       "        -1.70029422e+00, -1.26824903e+00, -7.52320932e+00,\n",
       "        -3.88171036e+00, -4.16905712e+00, -5.29050052e+00,\n",
       "        -6.09897831e+00, -5.40310635e+00, -6.59907041e+00,\n",
       "        -4.32838249e+00, -2.00979359e+00,  8.31667916e-01,\n",
       "         1.07907579e+00],\n",
       "       [ 9.33604667e+00,  1.66169717e+01, -2.24328245e+00,\n",
       "         2.27734986e-01, -1.84210673e+00, -6.48483383e+00,\n",
       "        -4.19280263e+00, -4.70995525e+00, -6.44544772e+00,\n",
       "        -5.87704554e+00, -5.58865688e+00, -5.03546296e+00,\n",
       "        -5.67593983e+00,  6.78813483e-02,  1.36627666e+00,\n",
       "         1.47143429e+00],\n",
       "       [ 5.34121724e+00,  1.66306953e+01, -4.90037408e-01,\n",
       "        -2.79879056e+00, -2.28970937e+00, -8.15709471e+00,\n",
       "        -5.13942958e+00, -4.19757954e+00, -5.83188147e+00,\n",
       "        -5.38171820e+00, -4.71011404e+00, -4.24915493e+00,\n",
       "        -5.87741071e+00, -2.09555365e-01,  1.66711458e+00,\n",
       "         3.11301860e-01],\n",
       "       [ 5.35524441e+00,  1.74578823e+01, -2.59847086e+00,\n",
       "        -1.98401790e+00, -2.63282682e+00, -7.37792021e+00,\n",
       "        -3.53208838e+00, -3.46079262e+00, -5.11480923e+00,\n",
       "        -5.18057826e+00, -5.89261736e+00, -4.38466153e+00,\n",
       "        -6.44233657e+00,  9.65700041e-01,  2.34140442e+00,\n",
       "         9.09063217e-01],\n",
       "       [ 5.02731125e+00,  1.72258083e+01, -1.89421739e+00,\n",
       "        -3.13214768e+00, -1.78393203e+00, -6.94070169e+00,\n",
       "        -3.73707051e+00, -4.06850266e+00, -4.91724863e+00,\n",
       "        -9.80114238e+00, -6.14440732e+00, -3.86709242e+00,\n",
       "        -5.71368092e+00,  8.34015362e-01,  3.31505121e+00,\n",
       "         5.35703633e-01],\n",
       "       [ 5.34062661e+00,  1.80099150e+01, -2.23452815e+00,\n",
       "        -3.30442587e+00, -2.31493726e+00, -6.04965457e+00,\n",
       "        -1.86562231e+00, -2.73909927e+00, -3.49235465e+00,\n",
       "        -5.62241984e+00, -6.13481471e+00, -4.37959685e+00,\n",
       "        -6.26331978e+00, -1.89568348e+00,  3.53028046e+00,\n",
       "         8.64754798e-01],\n",
       "       [ 7.33043974e+00,  1.59496827e+01, -1.88283955e+00,\n",
       "        -3.43790501e+00, -2.20190564e+00, -6.01128319e+00,\n",
       "        -3.02211970e+00, -3.59816035e+00, -4.09438524e+00,\n",
       "        -6.88167267e+00, -5.62854144e+00, -3.51326102e+00,\n",
       "        -4.07051868e+00, -2.30264613e-01,  2.39040654e+00,\n",
       "         3.62641123e-01],\n",
       "       [ 6.33051011e+00,  1.65360661e+01, -2.51507244e+00,\n",
       "        -3.69717687e+00, -1.51137366e+00, -6.25195884e+00,\n",
       "        -2.18755350e+00, -3.75194472e+00, -4.44644795e+00,\n",
       "        -5.23960936e+00, -7.54466679e+00, -3.69230865e+00,\n",
       "        -4.65005572e+00,  5.88482024e-01,  1.34367567e+00,\n",
       "        -2.49951908e-01],\n",
       "       [ 4.83059131e+00,  1.64699260e+01, -8.40152130e-01,\n",
       "        -1.84819300e+00, -1.21441940e+00, -7.31452330e+00,\n",
       "        -3.09192228e+00, -6.17214779e+00, -3.48776809e+00,\n",
       "        -4.82723879e+00, -4.61711484e+00, -5.80016446e+00,\n",
       "        -4.14156980e+00, -4.66012516e-01,  2.04964989e+00,\n",
       "         2.95694662e-01],\n",
       "       [ 8.28803745e+00,  1.66955581e+01, -2.40426336e-01,\n",
       "        -1.18454642e-02, -2.50120409e+00, -6.85034944e+00,\n",
       "        -3.14487047e+00, -3.98012777e+00, -3.79394283e+00,\n",
       "        -5.58076405e+00, -5.25512428e+00, -5.36371508e+00,\n",
       "        -7.91747117e+00, -5.75376312e-02,  1.53128883e+00,\n",
       "         1.35147798e+00],\n",
       "       [ 7.42786929e+00,  1.67824478e+01, -8.51421899e-01,\n",
       "        -1.81870237e+00, -2.09601600e+00, -7.69203535e+00,\n",
       "        -4.85801883e+00, -3.57081314e+00, -2.78501941e+00,\n",
       "        -4.77262637e+00, -6.33247132e+00, -5.32922703e+00,\n",
       "        -4.09797296e+00, -2.64331942e-01,  2.20172703e+00,\n",
       "         1.85704286e+00],\n",
       "       [ 1.03304283e+01,  1.59578107e+01, -2.58021677e+00,\n",
       "        -9.67379258e-01, -2.66058975e+00, -8.43804757e+00,\n",
       "        -4.36484649e+00, -3.27601363e+00, -3.53199903e+00,\n",
       "        -3.52712829e+00, -5.64292046e+00, -3.58241225e+00,\n",
       "        -5.55415144e+00, -4.09535370e-03,  2.63139959e+00,\n",
       "         5.79817265e-01],\n",
       "       [ 6.83552106e+00,  1.96903229e+01, -1.41692252e+00,\n",
       "        -4.06418626e+00, -3.46014993e+00, -1.02217829e+01,\n",
       "        -4.07354469e+00, -3.60319082e+00, -5.40852124e+00,\n",
       "        -4.61650403e+00, -3.91118066e+00, -6.92349803e+00,\n",
       "        -3.29465577e+00, -8.64272313e-01,  2.59209017e+00,\n",
       "         1.66625976e+00]])"
      ]
     },
     "execution_count": 40,
     "metadata": {},
     "output_type": "execute_result"
    }
   ],
   "source": [
    "old_fit"
   ]
  },
  {
   "cell_type": "code",
   "execution_count": 29,
   "metadata": {},
   "outputs": [
    {
     "data": {
      "image/png": "[encoded data removed]",
      "text/plain": [
       "<Figure size 432x288 with 1 Axes>"
      ]
     },
     "metadata": {
      "needs_background": "light"
     },
     "output_type": "display_data"
    },
    {
     "name": "stdout",
     "output_type": "stream",
     "text": [
      "[4873.364486481154, 1.57368370845992, -3.794253679305082, 2.8222423888932875, 0.4164057510133844, -0.814029777862018, 0.6163487433180679, 1.33999966671489, -2.967371234297568, 3.134498716854428, 0.6570918963250121, 1.195516450435977, 1.5034864765254325, 3.1589034293580402, 82.01044597146092]\n"
     ]
    }
   ],
   "source": [
    "grid=np.load(\"./etgrid/seds.npy\")\n",
    "param_names = [\"Tstar\",\"logLstar\",\"logMdisk\",\"logRdisk\",\"h0\",\"logRin\",\\\n",
    "          \"gamma\",\"beta\",\"logMenv\",\"logRenv\",\"fcav\",\"ksi\",\"logamax\",\"p\",\"incl\"]\n",
    "    \n",
    "xvals=np.load(\"./etgrid/xvals.npy\")\n",
    "etdict=np.load(\"./etgrid/et_dictionary.npy\",allow_pickle=True)\n",
    "\n",
    "def point(i):\n",
    "    coords=[]\n",
    "    for j in param_names:\n",
    "        coords.append(etdict[i][j])\n",
    "    sed = grid[i][100:500]\n",
    "    return (coords, sed)\n",
    "\n",
    "plt.plot(np.log10(xvals),point(0)[1])\n",
    "plt.show()\n",
    "print(point(0)[0])"
   ]
  },
  {
   "cell_type": "code",
   "execution_count": 30,
   "metadata": {},
   "outputs": [],
   "source": [
    "with open ('./gmd/trans4_parvals.txt', 'rb') as fp:\n",
    "    coords= pickle.load(fp) \n",
    "with open ('./gmd/trans4_eigenseds.txt', 'rb') as fp:\n",
    "    eigenseds= pickle.load(fp)\n",
    "with open ('./gmd/trans4_weights.txt', 'rb') as fp:\n",
    "    weights= pickle.load(fp)\n",
    "with open ('./gmd/trans4_mean.txt', 'rb') as fp:\n",
    "    pcamean= pickle.load(fp)\n",
    "\n",
    "yerrs=[]\n",
    "for i in range(16):\n",
    "    yerrs.append([x*0.01 for x in weights[i]])\n"
   ]
  },
  {
   "cell_type": "code",
   "execution_count": 12,
   "metadata": {},
   "outputs": [],
   "source": [
    "kernel = 16*kernels.ExpSquaredKernel(15**2,ndim=15,axes=0)*\\\n",
    "        kernels.ExpSquaredKernel(1**2,ndim=15,axes=1)*\\\n",
    "        kernels.ExpSquaredKernel(1**2,ndim=15,axes=2)*\\\n",
    "        kernels.ExpSquaredKernel(1**2,ndim=15,axes=3)*\\\n",
    "        kernels.ExpSquaredKernel(1**2,ndim=15,axes=4)*\\\n",
    "        kernels.ExpSquaredKernel(1**2,ndim=15,axes=5)*\\\n",
    "        kernels.ExpSquaredKernel(1**2,ndim=15,axes=6)*\\\n",
    "        kernels.ExpSquaredKernel(1**2,ndim=15,axes=7)*\\\n",
    "        kernels.ExpSquaredKernel(1**2,ndim=15,axes=8)*\\\n",
    "        kernels.ExpSquaredKernel(1**2,ndim=15,axes=9)*\\\n",
    "        kernels.ExpSquaredKernel(1**2,ndim=15,axes=10)*\\\n",
    "        kernels.ExpSquaredKernel(1**2,ndim=15,axes=11)*\\\n",
    "        kernels.ExpSquaredKernel(1**2,ndim=15,axes=12)*\\\n",
    "        kernels.ExpSquaredKernel(1**2,ndim=15,axes=13)*\\\n",
    "        kernels.ExpSquaredKernel(1**2,ndim=15,axes=14) \n",
    "blankhodlr=george.GP(kernel)"
   ]
  },
  {
   "cell_type": "code",
   "execution_count": 13,
   "metadata": {},
   "outputs": [],
   "source": [
    "sample=np.random.randint(0,3917,10)\n",
    "sample_coords=[]\n",
    "for i in range(len(sample)):\n",
    "    sample_coords.append(point(sample[i])[0])"
   ]
  },
  {
   "cell_type": "code",
   "execution_count": 16,
   "metadata": {},
   "outputs": [],
   "source": [
    "def pred(pred_coords):\n",
    "    gp=blankhodlr\n",
    "    preds=[]\n",
    "    hyperparams=np.transpose(np.array(old_fit).reshape(16,16))\n",
    "    for i in range(len(weights)):  # same covfunc for each weight and the sample mean\n",
    "        gp.set_parameter_vector(hyperparams[i])\n",
    "        gp.compute(coords,yerrs[i])\n",
    "        pred, pred_var = gp.predict(weights[i], pred_coords, return_var=True)\n",
    "        preds.append(pred)\n",
    "    reconst_SEDs=[]\n",
    "    for i in range(len(pred_coords)):\n",
    "        reconst=np.dot(np.array(preds)[:,i][0:15],eigenseds[0:15]) + pcamean + np.array(preds)[:,i][15]\n",
    "        reconst_SEDs.append(reconst)\n",
    "    return reconst_SEDs\n"
   ]
  },
  {
   "cell_type": "code",
   "execution_count": 17,
   "metadata": {},
   "outputs": [
    {
     "ename": "LinAlgError",
     "evalue": "1711-th leading minor of the array is not positive definite",
     "output_type": "error",
     "traceback": [
      "\u001b[0;31m---------------------------------------------------------------------------\u001b[0m",
      "\u001b[0;31mLinAlgError\u001b[0m                               Traceback (most recent call last)",
      "\u001b[0;32m<ipython-input-17-bc2916aca20f>\u001b[0m in \u001b[0;36m<module>\u001b[0;34m\u001b[0m\n\u001b[0;32m----> 1\u001b[0;31m \u001b[0mpredicted_SEDs\u001b[0m\u001b[0;34m=\u001b[0m\u001b[0mpred\u001b[0m\u001b[0;34m(\u001b[0m\u001b[0msample_coords\u001b[0m\u001b[0;34m)\u001b[0m\u001b[0;34m\u001b[0m\u001b[0;34m\u001b[0m\u001b[0m\n\u001b[0m",
      "\u001b[0;32m<ipython-input-16-e87e7bfdffed>\u001b[0m in \u001b[0;36mpred\u001b[0;34m(pred_coords)\u001b[0m\n\u001b[1;32m      5\u001b[0m     \u001b[0;32mfor\u001b[0m \u001b[0mi\u001b[0m \u001b[0;32min\u001b[0m \u001b[0mrange\u001b[0m\u001b[0;34m(\u001b[0m\u001b[0mlen\u001b[0m\u001b[0;34m(\u001b[0m\u001b[0mweights\u001b[0m\u001b[0;34m)\u001b[0m\u001b[0;34m)\u001b[0m\u001b[0;34m:\u001b[0m  \u001b[0;31m# same covfunc for each weight and the sample mean\u001b[0m\u001b[0;34m\u001b[0m\u001b[0;34m\u001b[0m\u001b[0m\n\u001b[1;32m      6\u001b[0m         \u001b[0mgp\u001b[0m\u001b[0;34m.\u001b[0m\u001b[0mset_parameter_vector\u001b[0m\u001b[0;34m(\u001b[0m\u001b[0mhyperparams\u001b[0m\u001b[0;34m[\u001b[0m\u001b[0mi\u001b[0m\u001b[0;34m]\u001b[0m\u001b[0;34m)\u001b[0m\u001b[0;34m\u001b[0m\u001b[0;34m\u001b[0m\u001b[0m\n\u001b[0;32m----> 7\u001b[0;31m         \u001b[0mgp\u001b[0m\u001b[0;34m.\u001b[0m\u001b[0mcompute\u001b[0m\u001b[0;34m(\u001b[0m\u001b[0mcoords\u001b[0m\u001b[0;34m,\u001b[0m\u001b[0myerrs\u001b[0m\u001b[0;34m[\u001b[0m\u001b[0mi\u001b[0m\u001b[0;34m]\u001b[0m\u001b[0;34m)\u001b[0m\u001b[0;34m\u001b[0m\u001b[0;34m\u001b[0m\u001b[0m\n\u001b[0m\u001b[1;32m      8\u001b[0m         \u001b[0mpred\u001b[0m\u001b[0;34m,\u001b[0m \u001b[0mpred_var\u001b[0m \u001b[0;34m=\u001b[0m \u001b[0mgp\u001b[0m\u001b[0;34m.\u001b[0m\u001b[0mpredict\u001b[0m\u001b[0;34m(\u001b[0m\u001b[0mweights\u001b[0m\u001b[0;34m[\u001b[0m\u001b[0mi\u001b[0m\u001b[0;34m]\u001b[0m\u001b[0;34m,\u001b[0m \u001b[0mpred_coords\u001b[0m\u001b[0;34m,\u001b[0m \u001b[0mreturn_var\u001b[0m\u001b[0;34m=\u001b[0m\u001b[0;32mTrue\u001b[0m\u001b[0;34m)\u001b[0m\u001b[0;34m\u001b[0m\u001b[0;34m\u001b[0m\u001b[0m\n\u001b[1;32m      9\u001b[0m         \u001b[0mpreds\u001b[0m\u001b[0;34m.\u001b[0m\u001b[0mappend\u001b[0m\u001b[0;34m(\u001b[0m\u001b[0mpred\u001b[0m\u001b[0;34m)\u001b[0m\u001b[0;34m\u001b[0m\u001b[0;34m\u001b[0m\u001b[0m\n",
      "\u001b[0;32m~/software/et_env/lib/python3.6/site-packages/george/gp.py\u001b[0m in \u001b[0;36mcompute\u001b[0;34m(self, x, yerr, **kwargs)\u001b[0m\n\u001b[1;32m    307\u001b[0m         \u001b[0;31m# Include the white noise term.\u001b[0m\u001b[0;34m\u001b[0m\u001b[0;34m\u001b[0m\u001b[0;34m\u001b[0m\u001b[0m\n\u001b[1;32m    308\u001b[0m         \u001b[0myerr\u001b[0m \u001b[0;34m=\u001b[0m \u001b[0mnp\u001b[0m\u001b[0;34m.\u001b[0m\u001b[0msqrt\u001b[0m\u001b[0;34m(\u001b[0m\u001b[0mself\u001b[0m\u001b[0;34m.\u001b[0m\u001b[0m_yerr2\u001b[0m \u001b[0;34m+\u001b[0m \u001b[0mnp\u001b[0m\u001b[0;34m.\u001b[0m\u001b[0mexp\u001b[0m\u001b[0;34m(\u001b[0m\u001b[0mself\u001b[0m\u001b[0;34m.\u001b[0m\u001b[0m_call_white_noise\u001b[0m\u001b[0;34m(\u001b[0m\u001b[0mself\u001b[0m\u001b[0;34m.\u001b[0m\u001b[0m_x\u001b[0m\u001b[0;34m)\u001b[0m\u001b[0;34m)\u001b[0m\u001b[0;34m)\u001b[0m\u001b[0;34m\u001b[0m\u001b[0;34m\u001b[0m\u001b[0m\n\u001b[0;32m--> 309\u001b[0;31m         \u001b[0mself\u001b[0m\u001b[0;34m.\u001b[0m\u001b[0msolver\u001b[0m\u001b[0;34m.\u001b[0m\u001b[0mcompute\u001b[0m\u001b[0;34m(\u001b[0m\u001b[0mself\u001b[0m\u001b[0;34m.\u001b[0m\u001b[0m_x\u001b[0m\u001b[0;34m,\u001b[0m \u001b[0myerr\u001b[0m\u001b[0;34m,\u001b[0m \u001b[0;34m**\u001b[0m\u001b[0mkwargs\u001b[0m\u001b[0;34m)\u001b[0m\u001b[0;34m\u001b[0m\u001b[0;34m\u001b[0m\u001b[0m\n\u001b[0m\u001b[1;32m    310\u001b[0m \u001b[0;34m\u001b[0m\u001b[0m\n\u001b[1;32m    311\u001b[0m         self._const = -0.5 * (len(self._x) * np.log(2 * np.pi) +\n",
      "\u001b[0;32m~/software/et_env/lib/python3.6/site-packages/george/solvers/basic.py\u001b[0m in \u001b[0;36mcompute\u001b[0;34m(self, x, yerr)\u001b[0m\n\u001b[1;32m     66\u001b[0m \u001b[0;34m\u001b[0m\u001b[0m\n\u001b[1;32m     67\u001b[0m         \u001b[0;31m# Factor the matrix and compute the log-determinant.\u001b[0m\u001b[0;34m\u001b[0m\u001b[0;34m\u001b[0m\u001b[0;34m\u001b[0m\u001b[0m\n\u001b[0;32m---> 68\u001b[0;31m         \u001b[0mself\u001b[0m\u001b[0;34m.\u001b[0m\u001b[0m_factor\u001b[0m \u001b[0;34m=\u001b[0m \u001b[0;34m(\u001b[0m\u001b[0mcholesky\u001b[0m\u001b[0;34m(\u001b[0m\u001b[0mK\u001b[0m\u001b[0;34m,\u001b[0m \u001b[0moverwrite_a\u001b[0m\u001b[0;34m=\u001b[0m\u001b[0;32mTrue\u001b[0m\u001b[0;34m,\u001b[0m \u001b[0mlower\u001b[0m\u001b[0;34m=\u001b[0m\u001b[0;32mFalse\u001b[0m\u001b[0;34m)\u001b[0m\u001b[0;34m,\u001b[0m \u001b[0;32mFalse\u001b[0m\u001b[0;34m)\u001b[0m\u001b[0;34m\u001b[0m\u001b[0;34m\u001b[0m\u001b[0m\n\u001b[0m\u001b[1;32m     69\u001b[0m         \u001b[0mself\u001b[0m\u001b[0;34m.\u001b[0m\u001b[0mlog_determinant\u001b[0m \u001b[0;34m=\u001b[0m \u001b[0;36m2\u001b[0m \u001b[0;34m*\u001b[0m \u001b[0mnp\u001b[0m\u001b[0;34m.\u001b[0m\u001b[0msum\u001b[0m\u001b[0;34m(\u001b[0m\u001b[0mnp\u001b[0m\u001b[0;34m.\u001b[0m\u001b[0mlog\u001b[0m\u001b[0;34m(\u001b[0m\u001b[0mnp\u001b[0m\u001b[0;34m.\u001b[0m\u001b[0mdiag\u001b[0m\u001b[0;34m(\u001b[0m\u001b[0mself\u001b[0m\u001b[0;34m.\u001b[0m\u001b[0m_factor\u001b[0m\u001b[0;34m[\u001b[0m\u001b[0;36m0\u001b[0m\u001b[0;34m]\u001b[0m\u001b[0;34m)\u001b[0m\u001b[0;34m)\u001b[0m\u001b[0;34m)\u001b[0m\u001b[0;34m\u001b[0m\u001b[0;34m\u001b[0m\u001b[0m\n\u001b[1;32m     70\u001b[0m         \u001b[0mself\u001b[0m\u001b[0;34m.\u001b[0m\u001b[0mcomputed\u001b[0m \u001b[0;34m=\u001b[0m \u001b[0;32mTrue\u001b[0m\u001b[0;34m\u001b[0m\u001b[0;34m\u001b[0m\u001b[0m\n",
      "\u001b[0;32m~/software/et_env/lib/python3.6/site-packages/scipy/linalg/decomp_cholesky.py\u001b[0m in \u001b[0;36mcholesky\u001b[0;34m(a, lower, overwrite_a, check_finite)\u001b[0m\n\u001b[1;32m     89\u001b[0m     \"\"\"\n\u001b[1;32m     90\u001b[0m     c, lower = _cholesky(a, lower=lower, overwrite_a=overwrite_a, clean=True,\n\u001b[0;32m---> 91\u001b[0;31m                          check_finite=check_finite)\n\u001b[0m\u001b[1;32m     92\u001b[0m     \u001b[0;32mreturn\u001b[0m \u001b[0mc\u001b[0m\u001b[0;34m\u001b[0m\u001b[0;34m\u001b[0m\u001b[0m\n\u001b[1;32m     93\u001b[0m \u001b[0;34m\u001b[0m\u001b[0m\n",
      "\u001b[0;32m~/software/et_env/lib/python3.6/site-packages/scipy/linalg/decomp_cholesky.py\u001b[0m in \u001b[0;36m_cholesky\u001b[0;34m(a, lower, overwrite_a, clean, check_finite)\u001b[0m\n\u001b[1;32m     38\u001b[0m     \u001b[0;32mif\u001b[0m \u001b[0minfo\u001b[0m \u001b[0;34m>\u001b[0m \u001b[0;36m0\u001b[0m\u001b[0;34m:\u001b[0m\u001b[0;34m\u001b[0m\u001b[0;34m\u001b[0m\u001b[0m\n\u001b[1;32m     39\u001b[0m         raise LinAlgError(\"%d-th leading minor of the array is not positive \"\n\u001b[0;32m---> 40\u001b[0;31m                           \"definite\" % info)\n\u001b[0m\u001b[1;32m     41\u001b[0m     \u001b[0;32mif\u001b[0m \u001b[0minfo\u001b[0m \u001b[0;34m<\u001b[0m \u001b[0;36m0\u001b[0m\u001b[0;34m:\u001b[0m\u001b[0;34m\u001b[0m\u001b[0;34m\u001b[0m\u001b[0m\n\u001b[1;32m     42\u001b[0m         raise ValueError('LAPACK reported an illegal value in {}-th argument'\n",
      "\u001b[0;31mLinAlgError\u001b[0m: 1711-th leading minor of the array is not positive definite"
     ]
    }
   ],
   "source": [
    "predicted_SEDs=pred(sample_coords)"
   ]
  },
  {
   "cell_type": "code",
   "execution_count": null,
   "metadata": {},
   "outputs": [],
   "source": [
    "for i in range(len(predicted_SEDs)):\n",
    "    print(sample[i])\n",
    "    print(orig_dict[sample[i]])\n",
    "    plt.plot(np.log10(xvals),predicted_SEDs[i],c='r',label=\"prediction\")\n",
    "    plt.plot(np.log10(xvals),point(sample[i])[1],c='k',label=\"RT\")\n",
    "    plt.legend()\n",
    "    plt.show()"
   ]
  }
 ],
 "metadata": {
  "kernelspec": {
   "display_name": "Python 3",
   "language": "python",
   "name": "python3"
  },
  "language_info": {
   "codemirror_mode": {
    "name": "ipython",
    "version": 3
   },
   "file_extension": ".py",
   "mimetype": "text/x-python",
   "name": "python",
   "nbconvert_exporter": "python",
   "pygments_lexer": "ipython3",
   "version": "3.6.7"
  }
 },
 "nbformat": 4,
 "nbformat_minor": 2
}
